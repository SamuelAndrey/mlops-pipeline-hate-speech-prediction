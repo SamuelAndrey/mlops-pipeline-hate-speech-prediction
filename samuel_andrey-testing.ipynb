{
 "cells": [
  {
   "cell_type": "markdown",
   "id": "7cdfcf92a62cb683",
   "metadata": {
    "collapsed": false
   },
   "source": [
    "docker build -t hate-speech-detection-tf-serving . <br>\n",
    "docker run -p 8080:8501 hate-speech-detection-tf-serving"
   ]
  },
  {
   "cell_type": "code",
   "execution_count": 1,
   "id": "c2aaa76f2c5de7e3",
   "metadata": {
    "ExecuteTime": {
     "end_time": "2024-04-07T15:01:37.079433900Z",
     "start_time": "2024-04-07T15:01:37.058796100Z"
    },
    "collapsed": false
   },
   "outputs": [],
   "source": [
    "import requests\n",
    "import pandas as pd\n",
    "import tensorflow as tf\n",
    "import json\n",
    "import base64"
   ]
  },
  {
   "cell_type": "code",
   "execution_count": 2,
   "id": "9e179935e7fd52d0",
   "metadata": {
    "ExecuteTime": {
     "end_time": "2024-04-07T15:01:37.188288100Z",
     "start_time": "2024-04-07T15:01:37.084077400Z"
    },
    "collapsed": false
   },
   "outputs": [
    {
     "data": {
      "text/html": [
       "<div>\n",
       "<style scoped>\n",
       "    .dataframe tbody tr th:only-of-type {\n",
       "        vertical-align: middle;\n",
       "    }\n",
       "\n",
       "    .dataframe tbody tr th {\n",
       "        vertical-align: top;\n",
       "    }\n",
       "\n",
       "    .dataframe thead th {\n",
       "        text-align: right;\n",
       "    }\n",
       "</style>\n",
       "<table border=\"1\" class=\"dataframe\">\n",
       "  <thead>\n",
       "    <tr style=\"text-align: right;\">\n",
       "      <th></th>\n",
       "      <th>text</th>\n",
       "      <th>label</th>\n",
       "    </tr>\n",
       "  </thead>\n",
       "  <tbody>\n",
       "    <tr>\n",
       "      <th>0</th>\n",
       "      <td>It should be legal for a husband to rape his wife</td>\n",
       "      <td>1</td>\n",
       "    </tr>\n",
       "    <tr>\n",
       "      <th>1</th>\n",
       "      <td>dalits are lowlife scum</td>\n",
       "      <td>1</td>\n",
       "    </tr>\n",
       "    <tr>\n",
       "      <th>2</th>\n",
       "      <td>dalits are lowlives</td>\n",
       "      <td>1</td>\n",
       "    </tr>\n",
       "    <tr>\n",
       "      <th>3</th>\n",
       "      <td>It was a better world when women dare not ques...</td>\n",
       "      <td>1</td>\n",
       "    </tr>\n",
       "    <tr>\n",
       "      <th>4</th>\n",
       "      <td>I don't work this hard so that those immigrant...</td>\n",
       "      <td>1</td>\n",
       "    </tr>\n",
       "  </tbody>\n",
       "</table>\n",
       "</div>"
      ],
      "text/plain": [
       "                                                text  label\n",
       "0  It should be legal for a husband to rape his wife      1\n",
       "1                            dalits are lowlife scum      1\n",
       "2                                dalits are lowlives      1\n",
       "3  It was a better world when women dare not ques...      1\n",
       "4  I don't work this hard so that those immigrant...      1"
      ]
     },
     "execution_count": 2,
     "metadata": {},
     "output_type": "execute_result"
    }
   ],
   "source": [
    "df = pd.read_csv('data\\data.csv')\n",
    "df.head()"
   ]
  },
  {
   "cell_type": "code",
   "execution_count": 3,
   "id": "441055fcfe64585a",
   "metadata": {
    "ExecuteTime": {
     "end_time": "2024-04-07T15:01:37.207558100Z",
     "start_time": "2024-04-07T15:01:37.196067600Z"
    },
    "collapsed": false
   },
   "outputs": [
    {
     "data": {
      "text/plain": [
       "'It should be legal for a husband to rape his wife'"
      ]
     },
     "execution_count": 3,
     "metadata": {},
     "output_type": "execute_result"
    }
   ],
   "source": [
    "data_test = df['text'][0]\n",
    "data_test"
   ]
  },
  {
   "cell_type": "code",
   "execution_count": 4,
   "id": "a5d7e708364c114c",
   "metadata": {
    "ExecuteTime": {
     "end_time": "2024-04-07T15:04:24.558351200Z",
     "start_time": "2024-04-07T15:04:24.524043Z"
    },
    "collapsed": false
   },
   "outputs": [
    {
     "name": "stdout",
     "output_type": "stream",
     "text": [
      "{'model_version_status': [{'state': 'AVAILABLE',\n",
      "                           'status': {'error_code': 'OK', 'error_message': ''},\n",
      "                           'version': '1712553083'}]}\n"
     ]
    }
   ],
   "source": [
    "from pprint import PrettyPrinter\n",
    "\n",
    "pp = PrettyPrinter()\n",
    "pp.pprint(requests.get(\"http://localhost:8080/v1/models/hate-speech-detection-model\").json())"
   ]
  },
  {
   "cell_type": "code",
   "execution_count": 5,
   "id": "838d510738791823",
   "metadata": {
    "ExecuteTime": {
     "end_time": "2024-04-07T15:01:37.336034Z",
     "start_time": "2024-04-07T15:01:37.243274Z"
    },
    "collapsed": false
   },
   "outputs": [
    {
     "name": "stdout",
     "output_type": "stream",
     "text": [
      "Hate Speech\n"
     ]
    }
   ],
   "source": [
    "def encode_text(text):\n",
    "    feature_spec = {\n",
    "        \"text\": tf.train.Feature(bytes_list=tf.train.BytesList(value=[bytes(text, \"utf-8\")])),\n",
    "    }\n",
    "\n",
    "    example = tf.train.Example(\n",
    "        features=tf.train.Features(feature=feature_spec)\n",
    "    ).SerializeToString()\n",
    "\n",
    "    return base64.b64encode(example).decode()\n",
    "\n",
    "def prepare_data(text):\n",
    "    encoded_example = encode_text(text)\n",
    "    return json.dumps({\n",
    "        \"signature_name\": \"serving_default\",\n",
    "        \"instances\": [{\n",
    "            \"examples\": {\"b64\": encoded_example}\n",
    "        }]\n",
    "    })\n",
    "\n",
    "json_data = prepare_data(data_test)\n",
    "\n",
    "endpoint = \"http://localhost:8080/v1/models/hate-speech-detection-model:predict\"\n",
    "response = requests.post(endpoint, data=json_data)\n",
    "\n",
    "predictions = response.json().get(\"predictions\", [])\n",
    "result = \"Hate Speech\" if predictions and predictions[0][0] > 0.6 else \"Not Hate Speech\" if predictions else \"Error: No predictions found.\"\n",
    "\n",
    "print(result)"
   ]
  }
 ],
 "metadata": {
  "kernelspec": {
   "display_name": "Python 3",
   "language": "python",
   "name": "python3"
  },
  "language_info": {
   "codemirror_mode": {
    "name": "ipython",
    "version": 3
   },
   "file_extension": ".py",
   "mimetype": "text/x-python",
   "name": "python",
   "nbconvert_exporter": "python",
   "pygments_lexer": "ipython3",
   "version": "3.9.15"
  }
 },
 "nbformat": 4,
 "nbformat_minor": 5
}
